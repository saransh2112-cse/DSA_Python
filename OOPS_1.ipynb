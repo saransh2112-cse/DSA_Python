{
 "cells": [
  {
   "cell_type": "markdown",
   "id": "fa1d4c99",
   "metadata": {},
   "source": [
    "# First CODE to Understand \"Class\""
   ]
  },
  {
   "cell_type": "code",
   "execution_count": 1,
   "id": "04bcceee",
   "metadata": {},
   "outputs": [],
   "source": [
    "class Human:\n",
    "    def __init__(self,name, age, occupation):\n",
    "        self.name = name\n",
    "        self.age = age\n",
    "        self.occupation = occupation\n",
    "    def what_work(self):\n",
    "        return f\"This Human does this {self.occupation} work.\""
   ]
  },
  {
   "cell_type": "code",
   "execution_count": 2,
   "id": "5e276a4f",
   "metadata": {},
   "outputs": [],
   "source": [
    "venu = Human('Venu','21','Data Scientist')"
   ]
  },
  {
   "cell_type": "code",
   "execution_count": 3,
   "id": "6c08cf4a",
   "metadata": {},
   "outputs": [
    {
     "data": {
      "text/plain": [
       "'Venu'"
      ]
     },
     "execution_count": 3,
     "metadata": {},
     "output_type": "execute_result"
    }
   ],
   "source": [
    "venu.name"
   ]
  },
  {
   "cell_type": "code",
   "execution_count": 4,
   "id": "1ef23faf",
   "metadata": {},
   "outputs": [
    {
     "data": {
      "text/plain": [
       "'21'"
      ]
     },
     "execution_count": 4,
     "metadata": {},
     "output_type": "execute_result"
    }
   ],
   "source": [
    "venu.age"
   ]
  },
  {
   "cell_type": "code",
   "execution_count": 5,
   "id": "d36785dc",
   "metadata": {},
   "outputs": [
    {
     "data": {
      "text/plain": [
       "'Data Scientist'"
      ]
     },
     "execution_count": 5,
     "metadata": {},
     "output_type": "execute_result"
    }
   ],
   "source": [
    "venu.occupation"
   ]
  },
  {
   "cell_type": "code",
   "execution_count": 6,
   "id": "6d1bc999",
   "metadata": {},
   "outputs": [
    {
     "data": {
      "text/plain": [
       "'This Human does this Data Scientist work.'"
      ]
     },
     "execution_count": 6,
     "metadata": {},
     "output_type": "execute_result"
    }
   ],
   "source": [
    "venu.what_work()"
   ]
  },
  {
   "cell_type": "markdown",
   "id": "f9a353ae",
   "metadata": {},
   "source": [
    "# Using Class in DSA ( Such as Linkedlist)"
   ]
  },
  {
   "cell_type": "code",
   "execution_count": 7,
   "id": "040d4aa9",
   "metadata": {},
   "outputs": [],
   "source": [
    "class Node:\n",
    "    def __init__(self,value):\n",
    "        self.value = value\n",
    "        self.next = None"
   ]
  },
  {
   "cell_type": "code",
   "execution_count": 8,
   "id": "bbea8163",
   "metadata": {},
   "outputs": [],
   "source": [
    "n1 = Node(1)\n",
    "n2 = Node(2)"
   ]
  },
  {
   "cell_type": "code",
   "execution_count": 9,
   "id": "48c7a47f",
   "metadata": {},
   "outputs": [
    {
     "data": {
      "text/plain": [
       "1"
      ]
     },
     "execution_count": 9,
     "metadata": {},
     "output_type": "execute_result"
    }
   ],
   "source": [
    "n1.value"
   ]
  },
  {
   "cell_type": "code",
   "execution_count": 10,
   "id": "b5ae5fe7",
   "metadata": {},
   "outputs": [
    {
     "data": {
      "text/plain": [
       "2"
      ]
     },
     "execution_count": 10,
     "metadata": {},
     "output_type": "execute_result"
    }
   ],
   "source": [
    "n2.value"
   ]
  },
  {
   "cell_type": "code",
   "execution_count": 11,
   "id": "a3d8f7fa",
   "metadata": {},
   "outputs": [],
   "source": [
    "n1.next"
   ]
  },
  {
   "cell_type": "code",
   "execution_count": 12,
   "id": "0aefa0d8",
   "metadata": {},
   "outputs": [
    {
     "name": "stdout",
     "output_type": "stream",
     "text": [
      "None\n"
     ]
    }
   ],
   "source": [
    "print(n1.next)"
   ]
  },
  {
   "cell_type": "code",
   "execution_count": 13,
   "id": "83539c01",
   "metadata": {},
   "outputs": [
    {
     "name": "stdout",
     "output_type": "stream",
     "text": [
      "None\n"
     ]
    }
   ],
   "source": [
    "print(n2.next)"
   ]
  },
  {
   "cell_type": "code",
   "execution_count": 14,
   "id": "f155f3b6",
   "metadata": {},
   "outputs": [],
   "source": [
    "n1.next = n2"
   ]
  },
  {
   "cell_type": "code",
   "execution_count": 15,
   "id": "87f37dbe",
   "metadata": {},
   "outputs": [
    {
     "name": "stdout",
     "output_type": "stream",
     "text": [
      "<__main__.Node object at 0x00000240ABA6CF40>\n"
     ]
    }
   ],
   "source": [
    "print(n1.next)"
   ]
  },
  {
   "cell_type": "code",
   "execution_count": 16,
   "id": "cf689b27",
   "metadata": {},
   "outputs": [
    {
     "data": {
      "text/plain": [
       "2"
      ]
     },
     "execution_count": 16,
     "metadata": {},
     "output_type": "execute_result"
    }
   ],
   "source": [
    "n1.next.value"
   ]
  },
  {
   "cell_type": "markdown",
   "id": "725cc288",
   "metadata": {},
   "source": [
    "# Scopes --> 1. Local , 2. Non Local, 3. Global "
   ]
  },
  {
   "cell_type": "code",
   "execution_count": 17,
   "id": "ecdccf3d",
   "metadata": {},
   "outputs": [
    {
     "name": "stdout",
     "output_type": "stream",
     "text": [
      "CloudyML Program\n",
      "CloudyML Program\n",
      "Python Programming\n",
      "Python Programming\n",
      "Data Science\n"
     ]
    }
   ],
   "source": [
    "def cloudyml():\n",
    "    def local_function():\n",
    "        name = \"Python\"\n",
    "    def Non_local():\n",
    "        nonlocal name\n",
    "        name = \"Python Programming\"\n",
    "    def global_function():\n",
    "        global name\n",
    "        name = \"Data Science\"\n",
    "    \n",
    "    name = \"CloudyML Program\"\n",
    "    print(name)\n",
    "    local_function()\n",
    "    print(name)\n",
    "    Non_local()\n",
    "    print(name)\n",
    "    global_function()\n",
    "    print(name)\n",
    "    \n",
    "    \n",
    "    \n",
    "cloudyml()\n",
    "print(name)"
   ]
  },
  {
   "cell_type": "markdown",
   "id": "ab155f60",
   "metadata": {},
   "source": [
    "# class & Instance Variables"
   ]
  },
  {
   "cell_type": "code",
   "execution_count": 18,
   "id": "bbe61273",
   "metadata": {},
   "outputs": [],
   "source": [
    "class CloudyML:\n",
    "    ceo ='Akash'\n",
    "    def __init__(self,course,course_id):\n",
    "        self.course = course\n",
    "        self.course_id = course_id\n",
    "    \n",
    "    def show(self):\n",
    "        print(f\"This is Course: {self.course} with Course id: {self.course_id}.\")\n"
   ]
  },
  {
   "cell_type": "code",
   "execution_count": 19,
   "id": "c1b333ae",
   "metadata": {},
   "outputs": [
    {
     "name": "stdout",
     "output_type": "stream",
     "text": [
      "Akash\n",
      "This is Course: Data Analysis with Course id: da1.\n",
      "Data Analysis da1\n"
     ]
    }
   ],
   "source": [
    "obj1 = CloudyML('Data Analysis','da1')\n",
    "print(obj1.ceo)\n",
    "obj1.show()\n",
    "print(obj1.course, obj1.course_id)"
   ]
  },
  {
   "cell_type": "code",
   "execution_count": 20,
   "id": "9a498f45",
   "metadata": {},
   "outputs": [
    {
     "name": "stdout",
     "output_type": "stream",
     "text": [
      "Akash\n",
      "This is Course: Data Science with Course id: ds1.\n",
      "Data Science ds1\n"
     ]
    }
   ],
   "source": [
    "obj2 = CloudyML('Data Science','ds1')\n",
    "print(obj2.ceo)\n",
    "obj2.show()\n",
    "print(obj2.course, obj2.course_id)"
   ]
  },
  {
   "cell_type": "markdown",
   "id": "2421afe3",
   "metadata": {},
   "source": [
    "# Inheritance & private Variable"
   ]
  },
  {
   "cell_type": "markdown",
   "id": "2da00dd0",
   "metadata": {},
   "source": [
    "##    SIMPLE INHERITANCE"
   ]
  },
  {
   "cell_type": "code",
   "execution_count": 21,
   "id": "39494e52",
   "metadata": {},
   "outputs": [],
   "source": [
    "class Parent:\n",
    "    def function1(self):\n",
    "        print(\"This is the parent function\")\n",
    "class Child(Parent):\n",
    "    def function2(slef):\n",
    "        print(\"This is the child function\")"
   ]
  },
  {
   "cell_type": "code",
   "execution_count": 22,
   "id": "c72a6d29",
   "metadata": {},
   "outputs": [
    {
     "name": "stdout",
     "output_type": "stream",
     "text": [
      "This is the parent function\n",
      "This is the child function\n"
     ]
    }
   ],
   "source": [
    "children = Child()\n",
    "children.function1()\n",
    "children.function2()"
   ]
  },
  {
   "cell_type": "markdown",
   "id": "551872ba",
   "metadata": {},
   "source": [
    "##    Multi-Level INHERITANCE"
   ]
  },
  {
   "cell_type": "code",
   "execution_count": 23,
   "id": "d8870e41",
   "metadata": {},
   "outputs": [],
   "source": [
    "class Parent:\n",
    "    def function1(self):\n",
    "        print(\"This is the parent function\")\n",
    "        \n",
    "class Child1(Parent):\n",
    "    def function2(slef):\n",
    "        print(\"This is the child 1 function\")\n",
    "        \n",
    "class Child2(Child1):\n",
    "    def function3(slef):\n",
    "        print(\"This is the child 2 function\")\n"
   ]
  },
  {
   "cell_type": "code",
   "execution_count": 24,
   "id": "e8853d0d",
   "metadata": {},
   "outputs": [
    {
     "name": "stdout",
     "output_type": "stream",
     "text": [
      "This is the parent function\n",
      "This is the child 1 function\n",
      "This is the child 2 function\n"
     ]
    }
   ],
   "source": [
    "children = Child2()\n",
    "\n",
    "children.function1()\n",
    "children.function2()\n",
    "children.function3()"
   ]
  },
  {
   "cell_type": "markdown",
   "id": "39a74af4",
   "metadata": {},
   "source": [
    "## Private Variables"
   ]
  },
  {
   "cell_type": "code",
   "execution_count": 25,
   "id": "431e0b4a",
   "metadata": {},
   "outputs": [],
   "source": [
    "class CloudyML:\n",
    "    def __init__(self,course,course_id):\n",
    "        self._course  = course\n",
    "        self.__course_id = course_id        # Naming Mangling\n",
    "    def show(self):\n",
    "        print(f\"This is Course: {self._course} with Course id: {self.__course_id}.\")"
   ]
  },
  {
   "cell_type": "code",
   "execution_count": 26,
   "id": "d7e7f641",
   "metadata": {},
   "outputs": [],
   "source": [
    "cloudyml = CloudyML(\"C++\",'cs101')"
   ]
  },
  {
   "cell_type": "code",
   "execution_count": 27,
   "id": "ea0892eb",
   "metadata": {},
   "outputs": [
    {
     "name": "stdout",
     "output_type": "stream",
     "text": [
      "This is Course: C++ with Course id: cs101.\n"
     ]
    }
   ],
   "source": [
    "cloudyml.show()"
   ]
  },
  {
   "cell_type": "code",
   "execution_count": 28,
   "id": "e61ea2b3",
   "metadata": {},
   "outputs": [
    {
     "ename": "AttributeError",
     "evalue": "'CloudyML' object has no attribute 'course'",
     "output_type": "error",
     "traceback": [
      "\u001b[1;31m---------------------------------------------------------------------------\u001b[0m",
      "\u001b[1;31mAttributeError\u001b[0m                            Traceback (most recent call last)",
      "Cell \u001b[1;32mIn[28], line 1\u001b[0m\n\u001b[1;32m----> 1\u001b[0m \u001b[43mcloudyml\u001b[49m\u001b[38;5;241;43m.\u001b[39;49m\u001b[43mcourse\u001b[49m\n",
      "\u001b[1;31mAttributeError\u001b[0m: 'CloudyML' object has no attribute 'course'"
     ]
    }
   ],
   "source": [
    "cloudyml.course"
   ]
  },
  {
   "cell_type": "code",
   "execution_count": 29,
   "id": "e353808c",
   "metadata": {},
   "outputs": [
    {
     "data": {
      "text/plain": [
       "'C++'"
      ]
     },
     "execution_count": 29,
     "metadata": {},
     "output_type": "execute_result"
    }
   ],
   "source": [
    "cloudyml._course"
   ]
  },
  {
   "cell_type": "code",
   "execution_count": 30,
   "id": "c8609d76",
   "metadata": {},
   "outputs": [
    {
     "ename": "AttributeError",
     "evalue": "'CloudyML' object has no attribute 'course_id'",
     "output_type": "error",
     "traceback": [
      "\u001b[1;31m---------------------------------------------------------------------------\u001b[0m",
      "\u001b[1;31mAttributeError\u001b[0m                            Traceback (most recent call last)",
      "Cell \u001b[1;32mIn[30], line 1\u001b[0m\n\u001b[1;32m----> 1\u001b[0m \u001b[43mcloudyml\u001b[49m\u001b[38;5;241;43m.\u001b[39;49m\u001b[43mcourse_id\u001b[49m\n",
      "\u001b[1;31mAttributeError\u001b[0m: 'CloudyML' object has no attribute 'course_id'"
     ]
    }
   ],
   "source": [
    "cloudyml.course_id"
   ]
  },
  {
   "cell_type": "code",
   "execution_count": 31,
   "id": "b090e06a",
   "metadata": {},
   "outputs": [
    {
     "ename": "AttributeError",
     "evalue": "'CloudyML' object has no attribute '__course_id'",
     "output_type": "error",
     "traceback": [
      "\u001b[1;31m---------------------------------------------------------------------------\u001b[0m",
      "\u001b[1;31mAttributeError\u001b[0m                            Traceback (most recent call last)",
      "Cell \u001b[1;32mIn[31], line 1\u001b[0m\n\u001b[1;32m----> 1\u001b[0m \u001b[43mcloudyml\u001b[49m\u001b[38;5;241;43m.\u001b[39;49m\u001b[43m__course_id\u001b[49m\n",
      "\u001b[1;31mAttributeError\u001b[0m: 'CloudyML' object has no attribute '__course_id'"
     ]
    }
   ],
   "source": [
    "cloudyml.__course_id"
   ]
  },
  {
   "cell_type": "code",
   "execution_count": 32,
   "id": "6b1ff11f",
   "metadata": {},
   "outputs": [
    {
     "data": {
      "text/plain": [
       "'cs101'"
      ]
     },
     "execution_count": 32,
     "metadata": {},
     "output_type": "execute_result"
    }
   ],
   "source": [
    "cloudyml._CloudyML__course_id #(because of Naming Mangling)"
   ]
  },
  {
   "cell_type": "code",
   "execution_count": null,
   "id": "77adfc48",
   "metadata": {},
   "outputs": [],
   "source": []
  },
  {
   "cell_type": "code",
   "execution_count": null,
   "id": "c258996c",
   "metadata": {},
   "outputs": [],
   "source": []
  }
 ],
 "metadata": {
  "kernelspec": {
   "display_name": "Python 3 (ipykernel)",
   "language": "python",
   "name": "python3"
  },
  "language_info": {
   "codemirror_mode": {
    "name": "ipython",
    "version": 3
   },
   "file_extension": ".py",
   "mimetype": "text/x-python",
   "name": "python",
   "nbconvert_exporter": "python",
   "pygments_lexer": "ipython3",
   "version": "3.10.9"
  }
 },
 "nbformat": 4,
 "nbformat_minor": 5
}
